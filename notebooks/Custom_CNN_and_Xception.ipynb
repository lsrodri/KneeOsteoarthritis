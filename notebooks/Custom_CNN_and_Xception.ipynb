{
  "nbformat": 4,
  "nbformat_minor": 0,
  "metadata": {
    "colab": {
      "provenance": [],
      "gpuType": "T4",
      "authorship_tag": "ABX9TyPVP23Vx/w1RYfnqU4JxYPf",
      "include_colab_link": true
    },
    "kernelspec": {
      "name": "python3",
      "display_name": "Python 3"
    },
    "language_info": {
      "name": "python"
    },
    "accelerator": "GPU"
  },
  "cells": [
    {
      "cell_type": "markdown",
      "metadata": {
        "id": "view-in-github",
        "colab_type": "text"
      },
      "source": [
        "<a href=\"https://colab.research.google.com/github/lsrodri/KneeOsteoarthritis/blob/main/notebooks/Custom_CNN_and_Xception.ipynb\" target=\"_parent\"><img src=\"https://colab.research.google.com/assets/colab-badge.svg\" alt=\"Open In Colab\"/></a>"
      ]
    },
    {
      "cell_type": "markdown",
      "source": [
        "Cloning pre-processed data"
      ],
      "metadata": {
        "id": "7vZcdswf0UkO"
      }
    },
    {
      "cell_type": "code",
      "execution_count": 1,
      "metadata": {
        "id": "ufZ8ImA3x55G",
        "colab": {
          "base_uri": "https://localhost:8080/"
        },
        "outputId": "bb1700ee-ef2c-458a-dd37-6ca79bfcc3f6"
      },
      "outputs": [
        {
          "output_type": "stream",
          "name": "stdout",
          "text": [
            "Cloning into 'KneeOsteoarthritis'...\n",
            "remote: Enumerating objects: 28, done.\u001b[K\n",
            "remote: Counting objects: 100% (21/21), done.\u001b[K\n",
            "remote: Compressing objects: 100% (20/20), done.\u001b[K\n",
            "remote: Total 28 (delta 6), reused 2 (delta 0), pack-reused 7 (from 2)\u001b[K\n",
            "Receiving objects: 100% (28/28), 46.53 MiB | 42.35 MiB/s, done.\n",
            "Resolving deltas: 100% (6/6), done.\n"
          ]
        }
      ],
      "source": [
        "!git clone https://github.com/lsrodri/KneeOsteoarthritis.git"
      ]
    },
    {
      "cell_type": "code",
      "source": [
        "import os\n",
        "\n",
        "if not os.path.exists('data'):\n",
        "  os.makedirs('data')\n",
        "\n",
        "!unzip -q KneeOsteoarthritis/data/processed_data.zip -d data/"
      ],
      "metadata": {
        "collapsed": true,
        "id": "8T9vRZ2Bx_VM"
      },
      "execution_count": 2,
      "outputs": []
    },
    {
      "cell_type": "markdown",
      "source": [
        "# Import Libraries and Modules\n",
        "\n",
        "Necessary libraries and modules for building and training a deep learning model using TensorFlow and Keras."
      ],
      "metadata": {
        "id": "Cad2fqDU1nKo"
      }
    },
    {
      "cell_type": "code",
      "source": [
        "import tensorflow as tf\n",
        "from tensorflow.keras import layers\n",
        "from tensorflow.keras.layers import (\n",
        "      BatchNormalization,\n",
        "      Conv2D,\n",
        "      Dense,\n",
        "      Dropout,\n",
        "      Flatten,\n",
        "      Lambda,\n",
        "      MaxPooling2D\n",
        ")\n",
        "from tensorflow.keras.optimizers import Adam\n",
        "from sklearn.preprocessing import LabelEncoder\n",
        "from tensorflow.keras.models import Sequential\n",
        "from tensorflow.keras.utils import to_categorical\n",
        "from tensorflow.keras.callbacks import EarlyStopping\n",
        "from tensorflow.keras.applications import Xception"
      ],
      "metadata": {
        "id": "K3kQ8yn2ziEa"
      },
      "execution_count": 3,
      "outputs": []
    },
    {
      "cell_type": "markdown",
      "source": [
        "# Normalization and Optimization\n",
        "\n",
        "Applying a normalization function to the training and testing datasets using Keras's `Rescaling` layer. This is a common preprocessing step for image data to scale pixel values to a range between 0 and 1, which improves model training with numerically-safe features.\n",
        "\n",
        "Additionally, the cell caches and prefetches the datasets for performance optimization. Caching keeps the dataset elements in memory after they've been loaded, so they don't need to be reloaded in subsequent epochs. Prefetching overlaps the data preprocessing and model execution, improving training speed."
      ],
      "metadata": {
        "id": "URImAT5-02dn"
      }
    },
    {
      "cell_type": "code",
      "source": [
        "train_folder = \"data/processed_data/train\"\n",
        "validation_folder = \"data/processed_data/validation\"\n",
        "test_folder = \"data/processed_data/test\"\n",
        "\n",
        "img_height = 224\n",
        "img_width = 224\n",
        "batch_size = 32\n",
        "\n",
        "train = tf.keras.utils.image_dataset_from_directory(\n",
        "    train_folder,\n",
        "    labels='inferred',\n",
        "    label_mode='categorical',\n",
        "    image_size=(img_height, img_width),\n",
        "    interpolation='nearest',\n",
        "    batch_size=batch_size,\n",
        "    shuffle=True,\n",
        "    verbose=False\n",
        ")\n",
        "\n",
        "validation = tf.keras.utils.image_dataset_from_directory(\n",
        "    validation_folder,\n",
        "    labels='inferred',\n",
        "    label_mode='categorical',\n",
        "    image_size=(img_height, img_width),\n",
        "    interpolation='nearest',\n",
        "    batch_size=batch_size,\n",
        "    shuffle=False,\n",
        "    verbose=False\n",
        ")\n",
        "\n",
        "test = tf.keras.utils.image_dataset_from_directory(\n",
        "    test_folder,\n",
        "    labels='inferred',\n",
        "    label_mode='categorical',\n",
        "    image_size=(img_height, img_width),\n",
        "    interpolation='nearest',\n",
        "    batch_size=batch_size,\n",
        "    shuffle=False,\n",
        "    verbose=False\n",
        ")"
      ],
      "metadata": {
        "id": "ajOnf9Lzy2oC"
      },
      "execution_count": 4,
      "outputs": []
    },
    {
      "cell_type": "markdown",
      "source": [
        "# Class imbalances\n",
        "\n",
        "Here, we plot the classes within training data to identify imbalances that can be fixed through augmentation:"
      ],
      "metadata": {
        "id": "-lm3X210TJpE"
      }
    },
    {
      "cell_type": "code",
      "source": [
        "import matplotlib.pyplot as plt\n",
        "import numpy as np\n",
        "import os\n",
        "\n",
        "def get_class_distribution(dataset):\n",
        "    labels = []\n",
        "    for images, batch_labels in dataset:\n",
        "        class_indices = np.argmax(batch_labels.numpy(), axis=1)\n",
        "        labels.extend(class_indices)\n",
        "    return np.unique(labels, return_counts=True)\n",
        "\n",
        "train_classes, train_counts = get_class_distribution(train)\n",
        "\n",
        "train_folder = \"data/processed_data/train\"\n",
        "class_names = sorted(os.listdir(train_folder))\n",
        "\n",
        "plt.figure(figsize=(6, 5))\n",
        "plt.bar([class_names[i] for i in train_classes], train_counts)\n",
        "plt.title('Training Set Class Distribution')\n",
        "plt.xlabel('Class')\n",
        "plt.ylabel('Count')\n",
        "plt.tick_params(axis='x', rotation=45)\n",
        "plt.tight_layout()\n",
        "plt.show()"
      ],
      "metadata": {
        "id": "ikKMYYjqCtQJ",
        "colab": {
          "base_uri": "https://localhost:8080/",
          "height": 507
        },
        "outputId": "e045d4c9-8c33-47c2-acd9-09f5a54cd5ce"
      },
      "execution_count": 5,
      "outputs": [
        {
          "output_type": "display_data",
          "data": {
            "text/plain": [
              "<Figure size 600x500 with 1 Axes>"
            ],
            "image/png": "[encoded data removed]"
          },
          "metadata": {}
        }
      ]
    },
    {
      "cell_type": "markdown",
      "source": [
        "# Data augmentation\n",
        "\n",
        "This cell addresses imbalances between classes in the training data and adds overall augmentation to the dataset. Augmentation improved test accuracy in around 10%"
      ],
      "metadata": {
        "id": "e0mJ0P6lUg76"
      }
    },
    {
      "cell_type": "code",
      "source": [
        "from tensorflow.keras.preprocessing.image import ImageDataGenerator\n",
        "import os\n",
        "import numpy as np\n",
        "import matplotlib.pyplot as plt\n",
        "import tensorflow as tf\n",
        "\n",
        "target_count = 600\n",
        "\n",
        "datagen = ImageDataGenerator(\n",
        "    horizontal_flip=True,\n",
        "    rotation_range=5,\n",
        "    zoom_range=[0.9, 1.0],\n",
        "    width_shift_range=0.05,\n",
        "    height_shift_range=0.05,\n",
        "    brightness_range=[0.9, 1.1],\n",
        ")\n",
        "\n",
        "for i, class_count in enumerate(train_counts):\n",
        "    class_name = class_names[i]\n",
        "    class_folder = os.path.join(train_folder, class_name)\n",
        "\n",
        "    augmentations_needed = target_count - class_count\n",
        "\n",
        "    if augmentations_needed > 0 and class_count < target_count:\n",
        "        print(f\"Generating {augmentations_needed} augmentations for class: {class_name} to reach {target_count}\")\n",
        "\n",
        "        class_generator = datagen.flow_from_directory(\n",
        "            train_folder,\n",
        "            classes=[class_name],\n",
        "            target_size=(img_height, img_width),\n",
        "            batch_size=1,\n",
        "            save_to_dir=class_folder,\n",
        "            save_prefix='aug',\n",
        "            save_format='png',\n",
        "            seed=42,\n",
        "            interpolation='nearest',\n",
        "            shuffle=False\n",
        "        )\n",
        "\n",
        "        for _ in range(augmentations_needed):\n",
        "            try:\n",
        "                next(class_generator)\n",
        "            except Exception as e:\n",
        "                print(f\"Error generating augmentation for class {class_name}: {e}\")\n",
        "\n",
        "\n",
        "print(\"Augmentation process completed.\")\n",
        "\n",
        "train_augmented = tf.keras.utils.image_dataset_from_directory(\n",
        "    train_folder,\n",
        "    labels='inferred',\n",
        "    label_mode='categorical',\n",
        "    image_size=(img_height, img_width),\n",
        "    interpolation='nearest',\n",
        "    batch_size=batch_size,\n",
        "    shuffle=True,\n",
        "    verbose=False\n",
        ")\n",
        "\n",
        "train_classes_augmented, train_counts_augmented = get_class_distribution(train_augmented)\n",
        "\n",
        "plt.figure(figsize=(6, 5))\n",
        "plt.bar([class_names[i] for i in train_classes_augmented], train_counts_augmented)\n",
        "plt.title(f'Training Set Class Distribution After Augmentation to {target_count} per class')\n",
        "plt.xlabel('Class')\n",
        "plt.ylabel('Count')\n",
        "plt.tick_params(axis='x', rotation=45)\n",
        "plt.tight_layout()\n",
        "plt.show()\n",
        "\n",
        "train = train_augmented\n",
        "\n",
        "print(f\"Total number of images in the augmented training set: {sum(train_counts_augmented)}\")"
      ],
      "metadata": {
        "id": "E1G3JvoADWS_",
        "colab": {
          "base_uri": "https://localhost:8080/",
          "height": 721
        },
        "outputId": "6ccf81f1-4208-4354-aa99-5a0a8e1771c7"
      },
      "execution_count": 6,
      "outputs": [
        {
          "output_type": "stream",
          "name": "stdout",
          "text": [
            "Generating 317 augmentations for class: 0Normal to reach 600\n",
            "Found 283 images belonging to 1 classes.\n",
            "Generating 296 augmentations for class: 1Doubtful to reach 600\n",
            "Found 304 images belonging to 1 classes.\n",
            "Generating 461 augmentations for class: 2Mild to reach 600\n",
            "Found 139 images belonging to 1 classes.\n",
            "Generating 471 augmentations for class: 3Moderate to reach 600\n",
            "Found 129 images belonging to 1 classes.\n",
            "Generating 477 augmentations for class: 4Severe to reach 600\n",
            "Found 123 images belonging to 1 classes.\n",
            "Augmentation process completed.\n"
          ]
        },
        {
          "output_type": "display_data",
          "data": {
            "text/plain": [
              "<Figure size 600x500 with 1 Axes>"
            ],
            "image/png": "[encoded data removed]"
          },
          "metadata": {}
        },
        {
          "output_type": "stream",
          "name": "stdout",
          "text": [
            "Total number of images in the augmented training set: 3000\n"
          ]
        }
      ]
    },
    {
      "cell_type": "markdown",
      "source": [
        "# Normalization and Dataset Optimization\n",
        "\n",
        "`normalization` uses Keras'  `Rescaling` layer to scale the pixel values of images to the range \\[0, 1]. This normalization step is applied to both the training and testing datasets using the `.map()` function.\n",
        "\n",
        "Additionally, the datasets are optimized for performance using `.cache()` and `.prefetch(buffer_size=AUTOTUNE)`.\n",
        "-   `.cache()` keeps the dataset elements in memory after the first epoch, avoiding redundant loading.\n",
        "-   `.prefetch()` overlaps the data preprocessing and model execution, improving training efficiency by ensuring data is ready when the model needs it."
      ],
      "metadata": {
        "id": "T4kCyxKq2E0W"
      }
    },
    {
      "source": [
        "# Normalization function using Rescaling layer\n",
        "def normalization(image, label):\n",
        "  rescale = tf.keras.layers.Rescaling(1./255)\n",
        "  return rescale(image), label\n",
        "\n",
        "# Apply normalization to the datasets\n",
        "train = train.map(normalization)\n",
        "validation = validation.map(normalization)\n",
        "test = test.map(normalization)\n",
        "\n",
        "# Cache and prefetch for performance\n",
        "AUTOTUNE = tf.data.AUTOTUNE\n",
        "train = train.cache().prefetch(buffer_size=AUTOTUNE)\n",
        "validation = validation.cache().prefetch(buffer_size=AUTOTUNE)\n",
        "test = test.cache().prefetch(buffer_size=AUTOTUNE)"
      ],
      "cell_type": "code",
      "metadata": {
        "id": "PTLseHUN1rSk"
      },
      "execution_count": 7,
      "outputs": []
    },
    {
      "cell_type": "code",
      "source": [
        "HEIGHT = 224\n",
        "WIDTH = 224\n",
        "CLASSES = 5\n",
        "INPUT_SHAPE = (HEIGHT, WIDTH, 3)"
      ],
      "metadata": {
        "id": "ezbCBM2I0_l3"
      },
      "execution_count": 8,
      "outputs": []
    },
    {
      "cell_type": "code",
      "source": [
        "!pip install -q keras-tuner"
      ],
      "metadata": {
        "collapsed": true,
        "id": "NzxkNjxw3xqx",
        "colab": {
          "base_uri": "https://localhost:8080/"
        },
        "outputId": "3cc1adfa-1fae-47bf-d157-2c5d87bc932b"
      },
      "execution_count": 9,
      "outputs": [
        {
          "output_type": "stream",
          "name": "stdout",
          "text": [
            "\u001b[?25l   \u001b[90m━━━━━━━━━━━━━━━━━━━━━━━━━━━━━━━━━━━━━━━━\u001b[0m \u001b[32m0.0/129.1 kB\u001b[0m \u001b[31m?\u001b[0m eta \u001b[36m-:--:--\u001b[0m\r\u001b[2K   \u001b[90m━━━━━━━━━━━━━━━━━━━━━━━━━━━━━━━━━━━━━━━━\u001b[0m \u001b[32m129.1/129.1 kB\u001b[0m \u001b[31m3.9 MB/s\u001b[0m eta \u001b[36m0:00:00\u001b[0m\n",
            "\u001b[?25h"
          ]
        }
      ]
    },
    {
      "cell_type": "markdown",
      "source": [
        "# Hyperparameter Tuning with Keras Tuner\n",
        "\n",
        "Performs Bayesian Optimization to find the best hyperparameters for the CNN model. It defines the model building function and configures the tuner to search for optimal values for filter sizes, dense layer units, dropout rates, optimizer, and learning rate."
      ],
      "metadata": {
        "id": "uMKcOJ3G2xek"
      }
    },
    {
      "cell_type": "code",
      "source": [
        "HYPERPARAMETER_TUNING = False #@param {type:\"boolean\"}"
      ],
      "metadata": {
        "id": "XJBAPkBbA7KK"
      },
      "execution_count": null,
      "outputs": []
    },
    {
      "cell_type": "code",
      "source": [
        "if HYPERPARAMETER_TUNING:\n",
        "  import kerastuner as kt\n",
        "  from tensorflow import keras\n",
        "  from tensorflow.keras import layers\n",
        "  from tensorflow.keras.models import Sequential\n",
        "  from tensorflow.keras.layers import Conv2D, MaxPooling2D, Flatten, Dense, Dropout\n",
        "  from tensorflow.keras.optimizers import Adam\n",
        "\n",
        "  # Define the function to build the model with hyperparameters\n",
        "  def build_cnn_model(hp):\n",
        "      model = Sequential()\n",
        "\n",
        "      # Hyperparameters for convolutional layers\n",
        "      hp_filters_1 = hp.Int('filters_1', min_value=16, max_value=64, step=16)\n",
        "      hp_filters_2 = hp.Int('filters_2', min_value=32, max_value=128, step=32)\n",
        "      hp_filters_3 = hp.Int('filters_3', min_value=64, max_value=256, step=64)\n",
        "\n",
        "      model.add(Conv2D(filters=hp_filters_1, kernel_size=(3, 3), activation='relu', input_shape=INPUT_SHAPE))\n",
        "      model.add(MaxPooling2D(pool_size=(2, 2)))\n",
        "\n",
        "      model.add(Conv2D(filters=hp_filters_2, kernel_size=(3, 3), activation='relu'))\n",
        "      model.add(MaxPooling2D(pool_size=(2, 2)))\n",
        "\n",
        "      model.add(Conv2D(filters=hp_filters_3, kernel_size=(3, 3), activation='relu'))\n",
        "      model.add(MaxPooling2D(pool_size=(2, 2)))\n",
        "\n",
        "      model.add(Flatten())\n",
        "\n",
        "      hp_units_1 = hp.Int('units_1', min_value=256, max_value=1024, step=256)\n",
        "      hp_units_2 = hp.Int('units_2', min_value=64, max_value=256, step=64)\n",
        "\n",
        "      model.add(Dense(units=hp_units_1, activation='relu'))\n",
        "\n",
        "      hp_dropout_1 = hp.Float('dropout_1', min_value=0.1, max_value=0.5, step=0.1)\n",
        "      model.add(Dropout(hp_dropout_1))\n",
        "\n",
        "      model.add(Dense(units=hp_units_2, activation='relu'))\n",
        "      hp_dropout_2 = hp.Float('dropout_2', min_value=0.1, max_value=0.5, step=0.1)\n",
        "      model.add(Dropout(hp_dropout_2))\n",
        "\n",
        "      model.add(Dense(units=CLASSES, activation='softmax'))\n",
        "\n",
        "      hp_optimizer = hp.Choice('optimizer', values=['adam', 'rmsprop'])\n",
        "\n",
        "      hp_learning_rate = hp.Choice('learning_rate', values=[1e-2, 1e-3, 1e-4])\n",
        "\n",
        "      if hp_optimizer == 'adam':\n",
        "          optimizer = Adam(learning_rate=hp_learning_rate)\n",
        "      else:\n",
        "          optimizer = keras.optimizers.RMSprop(learning_rate=hp_learning_rate)\n",
        "\n",
        "\n",
        "      model.compile(optimizer=optimizer,\n",
        "                    loss='categorical_crossentropy',\n",
        "                    metrics=['accuracy'])\n",
        "\n",
        "      return model\n",
        "\n",
        "  tuner = kt.BayesianOptimization(\n",
        "      build_cnn_model,\n",
        "      objective=\"val_accuracy\",\n",
        "      max_trials=10,\n",
        "      executions_per_trial=2,\n",
        "      directory=\"knee_osteoarthritis_kt\",\n",
        "      project_name=\"cnn_tuning\",\n",
        "      overwrite=True,\n",
        "      max_consecutive_failed_trials=5\n",
        "  )\n",
        "\n",
        "  tuner.search_space_summary()\n",
        "\n",
        "  early_stopping = EarlyStopping(monitor='val_loss', patience=10)\n",
        "\n",
        "  tuner.search(train,\n",
        "              validation_data=validation,\n",
        "              epochs=10,\n",
        "              callbacks=[early_stopping])\n",
        "\n",
        "  best_hps = tuner.get_best_hyperparameters(num_trials=1)[0]\n",
        "\n",
        "  print(f\"\"\"\n",
        "  The optimal number of filters in the first conv layer is {best_hps.get('filters_1')}.\n",
        "  The optimal number of filters in the second conv layer is {best_hps.get('filters_2')}.\n",
        "  The optimal number of filters in the third conv layer is {best_hps.get('filters_3')}.\n",
        "  The optimal number of units in the first dense layer is {best_hps.get('units_1')}.\n",
        "  The optimal number of units in the second dense layer is {best_hps.get('units_2')}.\n",
        "  The optimal dropout rate for the first dense layer is {best_hps.get('dropout_1')}.\n",
        "  The optimal dropout rate for the second dense layer is {best_hps.get('dropout_2')}.\n",
        "  The optimal optimizer is {best_hps.get('optimizer')}.\n",
        "  The optimal learning rate is {best_hps.get('learning_rate')}.\n",
        "  \"\"\")\n",
        "\n",
        "  best_model = tuner.get_best_models(num_models=1)[0]\n",
        "\n",
        "  loss, accuracy = best_model.evaluate(test)\n",
        "  print(f\"Best model loss: {loss:.4f}, accuracy: {accuracy:.4f}\")"
      ],
      "metadata": {
        "id": "1hcBRy4u3rui"
      },
      "execution_count": null,
      "outputs": []
    },
    {
      "cell_type": "markdown",
      "source": [
        "# Clearing memory before creating optimized model\n",
        "\n",
        "My environment was throwing 'out of memory' errors, so I created the cell below to clear memory after hyperparameter tuning"
      ],
      "metadata": {
        "id": "P561r7xyNEpp"
      }
    },
    {
      "cell_type": "code",
      "source": [
        "if HYPERPARAMETER_TUNING:\n",
        "  import gc\n",
        "  from tensorflow.keras import backend as K\n",
        "\n",
        "  # Clear Keras session\n",
        "  K.clear_session()\n",
        "\n",
        "  # Force garbage collection\n",
        "  gc.collect()\n",
        "\n",
        "  # Check if model exists\n",
        "  if 'model' in locals():\n",
        "    del model\n",
        "  elif 'model' in globals():\n",
        "    del model\n"
      ],
      "metadata": {
        "id": "xJCEEnbHMd-M"
      },
      "execution_count": null,
      "outputs": []
    },
    {
      "cell_type": "markdown",
      "source": [
        "# Model with optimal hyperparameters\n",
        "\n",
        "Creating the model with hyperparameters optimized with  Bayesian Optimization output\n",
        "\n"
      ],
      "metadata": {
        "id": "-jZ7tVMEFDLk"
      }
    },
    {
      "cell_type": "code",
      "source": [
        "# Check if the Bayesian Optimizer was run. Else, output previous values found to be best\n",
        "best_hps_available = 'best_hps' in locals() and best_hps is not None\n",
        "\n",
        "optimal_filters_1 = best_hps.get('filters_1') if best_hps_available else 32\n",
        "optimal_filters_2 = best_hps.get('filters_2') if best_hps_available else 96\n",
        "optimal_filters_3 = best_hps.get('filters_3') if best_hps_available else 64\n",
        "optimal_units_1 = best_hps.get('units_1') if best_hps_available else 768\n",
        "optimal_units_2 = best_hps.get('units_2') if best_hps_available else 192\n",
        "optimal_dropout_1 = best_hps.get('dropout_1') if best_hps_available else 0.3\n",
        "optimal_dropout_2 = best_hps.get('dropout_2') if best_hps_available else 0.1\n",
        "optimal_optimizer = best_hps.get('optimizer') if best_hps_available else 'adam'\n",
        "optimal_learning_rate = best_hps.get('learning_rate') if best_hps_available else 0.0001\n",
        "\n",
        "model = Sequential([\n",
        "    Conv2D(filters=optimal_filters_1, kernel_size=(3, 3), activation='relu', input_shape=INPUT_SHAPE),\n",
        "    MaxPooling2D(pool_size=(2, 2)),\n",
        "    Conv2D(filters=optimal_filters_2, kernel_size=(3, 3), activation='relu'),\n",
        "    MaxPooling2D(pool_size=(2, 2)),\n",
        "    Conv2D(filters=optimal_filters_3, kernel_size=(3, 3), activation='relu'),\n",
        "    MaxPooling2D(pool_size=(2, 2)),\n",
        "    Flatten(),\n",
        "    Dense(units=optimal_units_1, activation='relu'),\n",
        "    Dropout(optimal_dropout_1),\n",
        "    Dense(units=optimal_units_2, activation='relu'),\n",
        "    Dropout(optimal_dropout_2),\n",
        "    Dense(units=CLASSES, activation='softmax')\n",
        "])\n",
        "\n",
        "optimal_learning_rate = optimal_learning_rate\n",
        "\n",
        "early_stopping = EarlyStopping(monitor='val_loss', patience=10)\n",
        "\n",
        "optimizer = Adam(learning_rate=optimal_learning_rate)\n",
        "\n",
        "model.compile(optimizer=optimizer,\n",
        "              loss='categorical_crossentropy',\n",
        "              metrics=['accuracy'])\n",
        "\n",
        "model.summary()"
      ],
      "metadata": {
        "id": "cGKSni-cAfnw"
      },
      "execution_count": null,
      "outputs": []
    },
    {
      "cell_type": "markdown",
      "source": [
        "# Train the Model\n",
        "\n",
        "Trains the CNN model using the prepared training data. It specifies the validation data for monitoring performance during training, sets the number of epochs and batch size, and includes the early stopping callback to prevent overfitting."
      ],
      "metadata": {
        "id": "xJyLu4gb3Ol6"
      }
    },
    {
      "cell_type": "code",
      "source": [
        "history = model.fit(\n",
        "    train,\n",
        "    validation_data=validation,\n",
        "    epochs = 30,\n",
        "    batch_size = 8,\n",
        "    callbacks = early_stopping,\n",
        "    verbose = 1\n",
        ")"
      ],
      "metadata": {
        "id": "SSnpobFWy-p1"
      },
      "execution_count": null,
      "outputs": []
    },
    {
      "cell_type": "code",
      "source": [
        "import matplotlib.pyplot as plt\n",
        "\n",
        "plt.figure(figsize=(12, 6))\n",
        "plt.subplot(1, 2, 1)\n",
        "plt.plot(history.history['accuracy'])\n",
        "plt.plot(history.history['val_accuracy'])\n",
        "plt.title('Model accuracy')\n",
        "plt.ylabel('Accuracy')\n",
        "plt.xlabel('Epoch')\n",
        "plt.legend(['Train', 'Validation'], loc='upper left')\n",
        "\n",
        "plt.subplot(1, 2, 2)\n",
        "plt.plot(history.history['loss'])\n",
        "plt.plot(history.history['val_loss'])\n",
        "plt.title('Model loss')\n",
        "plt.ylabel('Loss')\n",
        "plt.xlabel('Epoch')\n",
        "plt.legend(['Train', 'Validation'], loc='upper left')\n",
        "\n",
        "plt.tight_layout()\n",
        "plt.show()"
      ],
      "metadata": {
        "id": "LYvC7gv2QDMb"
      },
      "execution_count": null,
      "outputs": []
    },
    {
      "source": [
        "loss, accuracy = model.evaluate(test)\n",
        "print(f\"Test loss: {loss:.4f}, Test accuracy: {accuracy:.4f}\")"
      ],
      "cell_type": "code",
      "metadata": {
        "id": "x4MM-OvnR-Vq"
      },
      "execution_count": null,
      "outputs": []
    },
    {
      "cell_type": "markdown",
      "source": [
        "# Xception Model\n",
        "\n",
        "As my custom CNN had only performed at around 60% accuracy, I used the Xception model for transfer learning."
      ],
      "metadata": {
        "id": "3_WES0vvXk3W"
      }
    },
    {
      "cell_type": "code",
      "source": [
        "if HYPERPARAMETER_TUNING:\n",
        "  import kerastuner as kt\n",
        "  from tensorflow import keras\n",
        "  from tensorflow.keras import layers\n",
        "  from tensorflow.keras.models import Sequential\n",
        "  from tensorflow.keras.optimizers import Adam\n",
        "  from tensorflow.keras.callbacks import EarlyStopping\n",
        "  from tensorflow.keras.applications import Xception\n",
        "\n",
        "  def build_xception_model(hp):\n",
        "      pretrained_model = Xception(\n",
        "          include_top=False,\n",
        "          input_shape=INPUT_SHAPE,\n",
        "          weights='imagenet'\n",
        "      )\n",
        "\n",
        "      for layer in pretrained_model.layers:\n",
        "          layer.trainable = False\n",
        "\n",
        "      model = Sequential()\n",
        "      model.add(pretrained_model)\n",
        "\n",
        "      model.add(layers.GlobalAveragePooling2D())\n",
        "\n",
        "      hp_units_1 = hp.Int('units_1', min_value=128, max_value=512, step=128)\n",
        "      hp_units_2 = hp.Int('units_2', min_value=64, max_value=256, step=64)\n",
        "      hp_units_3 = hp.Int('units_3', min_value=32, max_value=128, step=32)\n",
        "\n",
        "      model.add(layers.Dense(units=hp_units_1, activation='relu'))\n",
        "\n",
        "      hp_dropout_1 = hp.Float('dropout_1', min_value=0.1, max_value=0.5, step=0.1)\n",
        "      model.add(layers.Dropout(hp_dropout_1))\n",
        "\n",
        "      model.add(layers.Dense(units=hp_units_2, activation='relu'))\n",
        "      hp_dropout_2 = hp.Float('dropout_2', min_value=0.1, max_value=0.5, step=0.1)\n",
        "      model.add(layers.Dropout(hp_dropout_2))\n",
        "\n",
        "      model.add(layers.Dense(units=hp_units_3, activation='relu'))\n",
        "      hp_dropout_3 = hp.Float('dropout_3', min_value=0.1, max_value=0.5, step=0.1)\n",
        "      model.add(layers.Dropout(hp_dropout_3))\n",
        "\n",
        "      model.add(layers.Dense(units=CLASSES, activation='softmax'))\n",
        "\n",
        "      hp_learning_rate = hp.Choice('learning_rate', values=[1e-4, 1e-5, 1e-6])\n",
        "\n",
        "      optimizer = Adam(learning_rate=hp_learning_rate)\n",
        "\n",
        "      model.compile(loss='categorical_crossentropy',\n",
        "                    optimizer=optimizer,\n",
        "                    metrics=['accuracy'])\n",
        "\n",
        "      return model\n",
        "\n",
        "  tuner = kt.BayesianOptimization(\n",
        "      build_xception_model,\n",
        "      objective=\"val_accuracy\",\n",
        "      max_trials=10,\n",
        "      executions_per_trial=2,\n",
        "      directory=\"xception_tuning\",\n",
        "      project_name=\"xception_hyperparameter_tuning\",\n",
        "      overwrite=True,\n",
        "      max_consecutive_failed_trials=5\n",
        "  )\n",
        "\n",
        "  tuner.search_space_summary()\n",
        "\n",
        "  early_stopping = EarlyStopping(monitor='val_loss', patience=10)\n",
        "\n",
        "  tuner.search(train,\n",
        "              validation_data=validation,\n",
        "              epochs=50,\n",
        "              callbacks=[early_stopping])\n",
        "\n",
        "  best_hps = tuner.get_best_hyperparameters(num_trials=1)[0]\n",
        "\n",
        "  print(f\"\"\"\n",
        "  The optimal number of units in the first dense layer is {best_hps.get('units_1')}.\n",
        "  The optimal number of units in the second dense layer is {best_hps.get('units_2')}.\n",
        "  The optimal number of units in the third dense layer is {best_hps.get('units_3')}.\n",
        "  The optimal dropout rate for the first dense layer is {best_hps.get('dropout_1')}.\n",
        "  The optimal dropout rate for the second dense layer is {best_hps.get('dropout_2')}.\n",
        "  The optimal dropout rate for the third dense layer is {best_hps.get('dropout_3')}.\n",
        "  The optimal learning rate is {best_hps.get('learning_rate')}.\n",
        "  \"\"\")\n",
        "\n",
        "  best_model = tuner.get_best_models(num_models=1)[0]\n",
        "\n",
        "  loss, accuracy = best_model.evaluate(test)\n",
        "  print(f\"Best model loss: {loss:.4f}, accuracy: {accuracy:.4f}\")"
      ],
      "metadata": {
        "colab": {
          "base_uri": "https://localhost:8080/"
        },
        "id": "Hzy6H73ycWqb",
        "outputId": "f3395f6e-5ced-4bec-b794-1f82ce3f7a52"
      },
      "execution_count": null,
      "outputs": [
        {
          "output_type": "stream",
          "name": "stdout",
          "text": [
            "Trial 2 Complete [00h 16m 19s]\n",
            "val_accuracy: 0.7323077023029327\n",
            "\n",
            "Best val_accuracy So Far: 0.7323077023029327\n",
            "Total elapsed time: 00h 45m 20s\n",
            "\n",
            "Search: Running Trial #3\n",
            "\n",
            "Value             |Best Value So Far |Hyperparameter\n",
            "128               |128               |units_1\n",
            "128               |192               |units_2\n",
            "32                |96                |units_3\n",
            "0.5               |0.2               |dropout_1\n",
            "0.5               |0.2               |dropout_2\n",
            "0.1               |0.3               |dropout_3\n",
            "0.0001            |0.0001            |learning_rate\n",
            "\n",
            "Epoch 1/50\n",
            "\u001b[1m94/94\u001b[0m \u001b[32m━━━━━━━━━━━━━━━━━━━━\u001b[0m\u001b[37m\u001b[0m \u001b[1m0s\u001b[0m 182ms/step - accuracy: 0.2161 - loss: 1.6616"
          ]
        }
      ]
    },
    {
      "cell_type": "markdown",
      "source": [
        "#Running the Xception model\n",
        "\n",
        "Executing the Xception model with partial hyperparameter results from the Bayesian optimization search results in 73% validation accuracy."
      ],
      "metadata": {
        "id": "1Ze7AEHjMD0S"
      }
    },
    {
      "cell_type": "code",
      "source": [
        "units_1 = 128\n",
        "units_2 = 192\n",
        "units_3 = 96\n",
        "dropout_1 = 0.2\n",
        "dropout_2 = 0.2\n",
        "dropout_3 = 0.3\n",
        "learning_rate = 0.0001\n",
        "\n",
        "pretrained_model = Xception(\n",
        "    include_top=False,\n",
        "    input_shape=INPUT_SHAPE,\n",
        "    weights='imagenet'\n",
        ")\n",
        "\n",
        "for layer in pretrained_model.layers:\n",
        "    layer.trainable = False\n",
        "\n",
        "pretrained_model = Xception(\n",
        "    include_top=False,\n",
        "    input_shape=INPUT_SHAPE,\n",
        "    weights='imagenet'\n",
        ")\n",
        "\n",
        "for layer in pretrained_model.layers:\n",
        "    layer.trainable = False\n",
        "\n",
        "model = Sequential()\n",
        "model.add(pretrained_model)\n",
        "\n",
        "model.add(layers.GlobalAveragePooling2D())\n",
        "\n",
        "model.add(layers.Dense(units_1, activation='relu'))\n",
        "model.add(layers.Dropout(dropout_1))\n",
        "\n",
        "model.add(layers.Dense(units_2, activation='relu'))\n",
        "model.add(layers.Dropout(dropout_2))\n",
        "\n",
        "model.add(layers.Dense(units_3, activation='relu'))\n",
        "model.add(layers.Dropout(dropout_3))\n",
        "\n",
        "model.add(layers.Dense(CLASSES, activation='softmax'))\n",
        "\n",
        "optimizer = Adam(learning_rate=learning_rate)\n",
        "\n",
        "early_stop = EarlyStopping(monitor='val_loss', patience=15)\n",
        "\n",
        "model.compile(loss='categorical_crossentropy',\n",
        "                       optimizer=optimizer,\n",
        "                       metrics=['accuracy'])\n",
        "\n",
        "model.summary()"
      ],
      "metadata": {
        "id": "Tsj8PrkvYDro",
        "colab": {
          "base_uri": "https://localhost:8080/",
          "height": 446
        },
        "outputId": "6df2462f-9024-4d02-e9d9-e7f724628de2"
      },
      "execution_count": 12,
      "outputs": [
        {
          "output_type": "display_data",
          "data": {
            "text/plain": [
              "\u001b[1mModel: \"sequential_1\"\u001b[0m\n"
            ],
            "text/html": [
              "<pre style=\"white-space:pre;overflow-x:auto;line-height:normal;font-family:Menlo,'DejaVu Sans Mono',consolas,'Courier New',monospace\"><span style=\"font-weight: bold\">Model: \"sequential_1\"</span>\n",
              "</pre>\n"
            ]
          },
          "metadata": {}
        },
        {
          "output_type": "display_data",
          "data": {
            "text/plain": [
              "┏━━━━━━━━━━━━━━━━━━━━━━━━━━━━━━━━━┳━━━━━━━━━━━━━━━━━━━━━━━━┳━━━━━━━━━━━━━━━┓\n",
              "┃\u001b[1m \u001b[0m\u001b[1mLayer (type)                   \u001b[0m\u001b[1m \u001b[0m┃\u001b[1m \u001b[0m\u001b[1mOutput Shape          \u001b[0m\u001b[1m \u001b[0m┃\u001b[1m \u001b[0m\u001b[1m      Param #\u001b[0m\u001b[1m \u001b[0m┃\n",
              "┡━━━━━━━━━━━━━━━━━━━━━━━━━━━━━━━━━╇━━━━━━━━━━━━━━━━━━━━━━━━╇━━━━━━━━━━━━━━━┩\n",
              "│ xception (\u001b[38;5;33mFunctional\u001b[0m)           │ (\u001b[38;5;45mNone\u001b[0m, \u001b[38;5;34m7\u001b[0m, \u001b[38;5;34m7\u001b[0m, \u001b[38;5;34m2048\u001b[0m)     │    \u001b[38;5;34m20,861,480\u001b[0m │\n",
              "├─────────────────────────────────┼────────────────────────┼───────────────┤\n",
              "│ global_average_pooling2d_1      │ (\u001b[38;5;45mNone\u001b[0m, \u001b[38;5;34m2048\u001b[0m)           │             \u001b[38;5;34m0\u001b[0m │\n",
              "│ (\u001b[38;5;33mGlobalAveragePooling2D\u001b[0m)        │                        │               │\n",
              "├─────────────────────────────────┼────────────────────────┼───────────────┤\n",
              "│ dense_4 (\u001b[38;5;33mDense\u001b[0m)                 │ (\u001b[38;5;45mNone\u001b[0m, \u001b[38;5;34m128\u001b[0m)            │       \u001b[38;5;34m262,272\u001b[0m │\n",
              "├─────────────────────────────────┼────────────────────────┼───────────────┤\n",
              "│ dropout_3 (\u001b[38;5;33mDropout\u001b[0m)             │ (\u001b[38;5;45mNone\u001b[0m, \u001b[38;5;34m128\u001b[0m)            │             \u001b[38;5;34m0\u001b[0m │\n",
              "├─────────────────────────────────┼────────────────────────┼───────────────┤\n",
              "│ dense_5 (\u001b[38;5;33mDense\u001b[0m)                 │ (\u001b[38;5;45mNone\u001b[0m, \u001b[38;5;34m192\u001b[0m)            │        \u001b[38;5;34m24,768\u001b[0m │\n",
              "├─────────────────────────────────┼────────────────────────┼───────────────┤\n",
              "│ dropout_4 (\u001b[38;5;33mDropout\u001b[0m)             │ (\u001b[38;5;45mNone\u001b[0m, \u001b[38;5;34m192\u001b[0m)            │             \u001b[38;5;34m0\u001b[0m │\n",
              "├─────────────────────────────────┼────────────────────────┼───────────────┤\n",
              "│ dense_6 (\u001b[38;5;33mDense\u001b[0m)                 │ (\u001b[38;5;45mNone\u001b[0m, \u001b[38;5;34m96\u001b[0m)             │        \u001b[38;5;34m18,528\u001b[0m │\n",
              "├─────────────────────────────────┼────────────────────────┼───────────────┤\n",
              "│ dropout_5 (\u001b[38;5;33mDropout\u001b[0m)             │ (\u001b[38;5;45mNone\u001b[0m, \u001b[38;5;34m96\u001b[0m)             │             \u001b[38;5;34m0\u001b[0m │\n",
              "├─────────────────────────────────┼────────────────────────┼───────────────┤\n",
              "│ dense_7 (\u001b[38;5;33mDense\u001b[0m)                 │ (\u001b[38;5;45mNone\u001b[0m, \u001b[38;5;34m5\u001b[0m)              │           \u001b[38;5;34m485\u001b[0m │\n",
              "└─────────────────────────────────┴────────────────────────┴───────────────┘\n"
            ],
            "text/html": [
              "<pre style=\"white-space:pre;overflow-x:auto;line-height:normal;font-family:Menlo,'DejaVu Sans Mono',consolas,'Courier New',monospace\">┏━━━━━━━━━━━━━━━━━━━━━━━━━━━━━━━━━┳━━━━━━━━━━━━━━━━━━━━━━━━┳━━━━━━━━━━━━━━━┓\n",
              "┃<span style=\"font-weight: bold\"> Layer (type)                    </span>┃<span style=\"font-weight: bold\"> Output Shape           </span>┃<span style=\"font-weight: bold\">       Param # </span>┃\n",
              "┡━━━━━━━━━━━━━━━━━━━━━━━━━━━━━━━━━╇━━━━━━━━━━━━━━━━━━━━━━━━╇━━━━━━━━━━━━━━━┩\n",
              "│ xception (<span style=\"color: #0087ff; text-decoration-color: #0087ff\">Functional</span>)           │ (<span style=\"color: #00d7ff; text-decoration-color: #00d7ff\">None</span>, <span style=\"color: #00af00; text-decoration-color: #00af00\">7</span>, <span style=\"color: #00af00; text-decoration-color: #00af00\">7</span>, <span style=\"color: #00af00; text-decoration-color: #00af00\">2048</span>)     │    <span style=\"color: #00af00; text-decoration-color: #00af00\">20,861,480</span> │\n",
              "├─────────────────────────────────┼────────────────────────┼───────────────┤\n",
              "│ global_average_pooling2d_1      │ (<span style=\"color: #00d7ff; text-decoration-color: #00d7ff\">None</span>, <span style=\"color: #00af00; text-decoration-color: #00af00\">2048</span>)           │             <span style=\"color: #00af00; text-decoration-color: #00af00\">0</span> │\n",
              "│ (<span style=\"color: #0087ff; text-decoration-color: #0087ff\">GlobalAveragePooling2D</span>)        │                        │               │\n",
              "├─────────────────────────────────┼────────────────────────┼───────────────┤\n",
              "│ dense_4 (<span style=\"color: #0087ff; text-decoration-color: #0087ff\">Dense</span>)                 │ (<span style=\"color: #00d7ff; text-decoration-color: #00d7ff\">None</span>, <span style=\"color: #00af00; text-decoration-color: #00af00\">128</span>)            │       <span style=\"color: #00af00; text-decoration-color: #00af00\">262,272</span> │\n",
              "├─────────────────────────────────┼────────────────────────┼───────────────┤\n",
              "│ dropout_3 (<span style=\"color: #0087ff; text-decoration-color: #0087ff\">Dropout</span>)             │ (<span style=\"color: #00d7ff; text-decoration-color: #00d7ff\">None</span>, <span style=\"color: #00af00; text-decoration-color: #00af00\">128</span>)            │             <span style=\"color: #00af00; text-decoration-color: #00af00\">0</span> │\n",
              "├─────────────────────────────────┼────────────────────────┼───────────────┤\n",
              "│ dense_5 (<span style=\"color: #0087ff; text-decoration-color: #0087ff\">Dense</span>)                 │ (<span style=\"color: #00d7ff; text-decoration-color: #00d7ff\">None</span>, <span style=\"color: #00af00; text-decoration-color: #00af00\">192</span>)            │        <span style=\"color: #00af00; text-decoration-color: #00af00\">24,768</span> │\n",
              "├─────────────────────────────────┼────────────────────────┼───────────────┤\n",
              "│ dropout_4 (<span style=\"color: #0087ff; text-decoration-color: #0087ff\">Dropout</span>)             │ (<span style=\"color: #00d7ff; text-decoration-color: #00d7ff\">None</span>, <span style=\"color: #00af00; text-decoration-color: #00af00\">192</span>)            │             <span style=\"color: #00af00; text-decoration-color: #00af00\">0</span> │\n",
              "├─────────────────────────────────┼────────────────────────┼───────────────┤\n",
              "│ dense_6 (<span style=\"color: #0087ff; text-decoration-color: #0087ff\">Dense</span>)                 │ (<span style=\"color: #00d7ff; text-decoration-color: #00d7ff\">None</span>, <span style=\"color: #00af00; text-decoration-color: #00af00\">96</span>)             │        <span style=\"color: #00af00; text-decoration-color: #00af00\">18,528</span> │\n",
              "├─────────────────────────────────┼────────────────────────┼───────────────┤\n",
              "│ dropout_5 (<span style=\"color: #0087ff; text-decoration-color: #0087ff\">Dropout</span>)             │ (<span style=\"color: #00d7ff; text-decoration-color: #00d7ff\">None</span>, <span style=\"color: #00af00; text-decoration-color: #00af00\">96</span>)             │             <span style=\"color: #00af00; text-decoration-color: #00af00\">0</span> │\n",
              "├─────────────────────────────────┼────────────────────────┼───────────────┤\n",
              "│ dense_7 (<span style=\"color: #0087ff; text-decoration-color: #0087ff\">Dense</span>)                 │ (<span style=\"color: #00d7ff; text-decoration-color: #00d7ff\">None</span>, <span style=\"color: #00af00; text-decoration-color: #00af00\">5</span>)              │           <span style=\"color: #00af00; text-decoration-color: #00af00\">485</span> │\n",
              "└─────────────────────────────────┴────────────────────────┴───────────────┘\n",
              "</pre>\n"
            ]
          },
          "metadata": {}
        },
        {
          "output_type": "display_data",
          "data": {
            "text/plain": [
              "\u001b[1m Total params: \u001b[0m\u001b[38;5;34m21,167,533\u001b[0m (80.75 MB)\n"
            ],
            "text/html": [
              "<pre style=\"white-space:pre;overflow-x:auto;line-height:normal;font-family:Menlo,'DejaVu Sans Mono',consolas,'Courier New',monospace\"><span style=\"font-weight: bold\"> Total params: </span><span style=\"color: #00af00; text-decoration-color: #00af00\">21,167,533</span> (80.75 MB)\n",
              "</pre>\n"
            ]
          },
          "metadata": {}
        },
        {
          "output_type": "display_data",
          "data": {
            "text/plain": [
              "\u001b[1m Trainable params: \u001b[0m\u001b[38;5;34m306,053\u001b[0m (1.17 MB)\n"
            ],
            "text/html": [
              "<pre style=\"white-space:pre;overflow-x:auto;line-height:normal;font-family:Menlo,'DejaVu Sans Mono',consolas,'Courier New',monospace\"><span style=\"font-weight: bold\"> Trainable params: </span><span style=\"color: #00af00; text-decoration-color: #00af00\">306,053</span> (1.17 MB)\n",
              "</pre>\n"
            ]
          },
          "metadata": {}
        },
        {
          "output_type": "display_data",
          "data": {
            "text/plain": [
              "\u001b[1m Non-trainable params: \u001b[0m\u001b[38;5;34m20,861,480\u001b[0m (79.58 MB)\n"
            ],
            "text/html": [
              "<pre style=\"white-space:pre;overflow-x:auto;line-height:normal;font-family:Menlo,'DejaVu Sans Mono',consolas,'Courier New',monospace\"><span style=\"font-weight: bold\"> Non-trainable params: </span><span style=\"color: #00af00; text-decoration-color: #00af00\">20,861,480</span> (79.58 MB)\n",
              "</pre>\n"
            ]
          },
          "metadata": {}
        }
      ]
    },
    {
      "cell_type": "code",
      "source": [
        "history = model.fit(\n",
        "    train,\n",
        "    validation_data=validation,\n",
        "    epochs = 100,\n",
        "    batch_size = 8,\n",
        "    callbacks = early_stop,\n",
        "    verbose = 1\n",
        ")"
      ],
      "metadata": {
        "colab": {
          "base_uri": "https://localhost:8080/"
        },
        "id": "ipYAJ4mQZLyb",
        "outputId": "b7c75c2d-f65b-46db-9ba9-ab9bda6a70b6"
      },
      "execution_count": 13,
      "outputs": [
        {
          "output_type": "stream",
          "name": "stdout",
          "text": [
            "Epoch 1/100\n",
            "\u001b[1m94/94\u001b[0m \u001b[32m━━━━━━━━━━━━━━━━━━━━\u001b[0m\u001b[37m\u001b[0m \u001b[1m29s\u001b[0m 215ms/step - accuracy: 0.2772 - loss: 1.5888 - val_accuracy: 0.4769 - val_loss: 1.3873\n",
            "Epoch 2/100\n",
            "\u001b[1m94/94\u001b[0m \u001b[32m━━━━━━━━━━━━━━━━━━━━\u001b[0m\u001b[37m\u001b[0m \u001b[1m13s\u001b[0m 136ms/step - accuracy: 0.4462 - loss: 1.3615 - val_accuracy: 0.5446 - val_loss: 1.1594\n",
            "Epoch 3/100\n",
            "\u001b[1m94/94\u001b[0m \u001b[32m━━━━━━━━━━━━━━━━━━━━\u001b[0m\u001b[37m\u001b[0m \u001b[1m13s\u001b[0m 140ms/step - accuracy: 0.5028 - loss: 1.1780 - val_accuracy: 0.5662 - val_loss: 1.0682\n",
            "Epoch 4/100\n",
            "\u001b[1m94/94\u001b[0m \u001b[32m━━━━━━━━━━━━━━━━━━━━\u001b[0m\u001b[37m\u001b[0m \u001b[1m14s\u001b[0m 154ms/step - accuracy: 0.5561 - loss: 1.0628 - val_accuracy: 0.6062 - val_loss: 1.0113\n",
            "Epoch 5/100\n",
            "\u001b[1m94/94\u001b[0m \u001b[32m━━━━━━━━━━━━━━━━━━━━\u001b[0m\u001b[37m\u001b[0m \u001b[1m13s\u001b[0m 136ms/step - accuracy: 0.5795 - loss: 0.9921 - val_accuracy: 0.6123 - val_loss: 0.9664\n",
            "Epoch 6/100\n",
            "\u001b[1m94/94\u001b[0m \u001b[32m━━━━━━━━━━━━━━━━━━━━\u001b[0m\u001b[37m\u001b[0m \u001b[1m13s\u001b[0m 135ms/step - accuracy: 0.6209 - loss: 0.9276 - val_accuracy: 0.6308 - val_loss: 0.9294\n",
            "Epoch 7/100\n",
            "\u001b[1m94/94\u001b[0m \u001b[32m━━━━━━━━━━━━━━━━━━━━\u001b[0m\u001b[37m\u001b[0m \u001b[1m13s\u001b[0m 135ms/step - accuracy: 0.6526 - loss: 0.8711 - val_accuracy: 0.6431 - val_loss: 0.9080\n",
            "Epoch 8/100\n",
            "\u001b[1m94/94\u001b[0m \u001b[32m━━━━━━━━━━━━━━━━━━━━\u001b[0m\u001b[37m\u001b[0m \u001b[1m13s\u001b[0m 135ms/step - accuracy: 0.6654 - loss: 0.8378 - val_accuracy: 0.6646 - val_loss: 0.8822\n",
            "Epoch 9/100\n",
            "\u001b[1m94/94\u001b[0m \u001b[32m━━━━━━━━━━━━━━━━━━━━\u001b[0m\u001b[37m\u001b[0m \u001b[1m20s\u001b[0m 135ms/step - accuracy: 0.6807 - loss: 0.7918 - val_accuracy: 0.6738 - val_loss: 0.8555\n",
            "Epoch 10/100\n",
            "\u001b[1m94/94\u001b[0m \u001b[32m━━━━━━━━━━━━━━━━━━━━\u001b[0m\u001b[37m\u001b[0m \u001b[1m14s\u001b[0m 152ms/step - accuracy: 0.7163 - loss: 0.7361 - val_accuracy: 0.6646 - val_loss: 0.8295\n",
            "Epoch 11/100\n",
            "\u001b[1m94/94\u001b[0m \u001b[32m━━━━━━━━━━━━━━━━━━━━\u001b[0m\u001b[37m\u001b[0m \u001b[1m13s\u001b[0m 139ms/step - accuracy: 0.7249 - loss: 0.6976 - val_accuracy: 0.6800 - val_loss: 0.8337\n",
            "Epoch 12/100\n",
            "\u001b[1m94/94\u001b[0m \u001b[32m━━━━━━━━━━━━━━━━━━━━\u001b[0m\u001b[37m\u001b[0m \u001b[1m13s\u001b[0m 137ms/step - accuracy: 0.7535 - loss: 0.6477 - val_accuracy: 0.6923 - val_loss: 0.8103\n",
            "Epoch 13/100\n",
            "\u001b[1m94/94\u001b[0m \u001b[32m━━━━━━━━━━━━━━━━━━━━\u001b[0m\u001b[37m\u001b[0m \u001b[1m13s\u001b[0m 135ms/step - accuracy: 0.7735 - loss: 0.5961 - val_accuracy: 0.6862 - val_loss: 0.8022\n",
            "Epoch 14/100\n",
            "\u001b[1m94/94\u001b[0m \u001b[32m━━━━━━━━━━━━━━━━━━━━\u001b[0m\u001b[37m\u001b[0m \u001b[1m13s\u001b[0m 135ms/step - accuracy: 0.7581 - loss: 0.5985 - val_accuracy: 0.6985 - val_loss: 0.7788\n",
            "Epoch 15/100\n",
            "\u001b[1m94/94\u001b[0m \u001b[32m━━━━━━━━━━━━━━━━━━━━\u001b[0m\u001b[37m\u001b[0m \u001b[1m13s\u001b[0m 136ms/step - accuracy: 0.8034 - loss: 0.5274 - val_accuracy: 0.7015 - val_loss: 0.7669\n",
            "Epoch 16/100\n",
            "\u001b[1m94/94\u001b[0m \u001b[32m━━━━━━━━━━━━━━━━━━━━\u001b[0m\u001b[37m\u001b[0m \u001b[1m20s\u001b[0m 136ms/step - accuracy: 0.8081 - loss: 0.5155 - val_accuracy: 0.6923 - val_loss: 0.7644\n",
            "Epoch 17/100\n",
            "\u001b[1m94/94\u001b[0m \u001b[32m━━━━━━━━━━━━━━━━━━━━\u001b[0m\u001b[37m\u001b[0m \u001b[1m13s\u001b[0m 140ms/step - accuracy: 0.8169 - loss: 0.4887 - val_accuracy: 0.7108 - val_loss: 0.7674\n",
            "Epoch 18/100\n",
            "\u001b[1m94/94\u001b[0m \u001b[32m━━━━━━━━━━━━━━━━━━━━\u001b[0m\u001b[37m\u001b[0m \u001b[1m13s\u001b[0m 140ms/step - accuracy: 0.8404 - loss: 0.4524 - val_accuracy: 0.7200 - val_loss: 0.7736\n",
            "Epoch 19/100\n",
            "\u001b[1m94/94\u001b[0m \u001b[32m━━━━━━━━━━━━━━━━━━━━\u001b[0m\u001b[37m\u001b[0m \u001b[1m13s\u001b[0m 137ms/step - accuracy: 0.8410 - loss: 0.4136 - val_accuracy: 0.7200 - val_loss: 0.7560\n",
            "Epoch 20/100\n",
            "\u001b[1m94/94\u001b[0m \u001b[32m━━━━━━━━━━━━━━━━━━━━\u001b[0m\u001b[37m\u001b[0m \u001b[1m13s\u001b[0m 135ms/step - accuracy: 0.8564 - loss: 0.3957 - val_accuracy: 0.7262 - val_loss: 0.7532\n",
            "Epoch 21/100\n",
            "\u001b[1m94/94\u001b[0m \u001b[32m━━━━━━━━━━━━━━━━━━━━\u001b[0m\u001b[37m\u001b[0m \u001b[1m13s\u001b[0m 135ms/step - accuracy: 0.8662 - loss: 0.3623 - val_accuracy: 0.7354 - val_loss: 0.7743\n",
            "Epoch 22/100\n",
            "\u001b[1m94/94\u001b[0m \u001b[32m━━━━━━━━━━━━━━━━━━━━\u001b[0m\u001b[37m\u001b[0m \u001b[1m13s\u001b[0m 135ms/step - accuracy: 0.8636 - loss: 0.3639 - val_accuracy: 0.7231 - val_loss: 0.7570\n",
            "Epoch 23/100\n",
            "\u001b[1m94/94\u001b[0m \u001b[32m━━━━━━━━━━━━━━━━━━━━\u001b[0m\u001b[37m\u001b[0m \u001b[1m13s\u001b[0m 136ms/step - accuracy: 0.8760 - loss: 0.3418 - val_accuracy: 0.7292 - val_loss: 0.7739\n",
            "Epoch 24/100\n",
            "\u001b[1m94/94\u001b[0m \u001b[32m━━━━━━━━━━━━━━━━━━━━\u001b[0m\u001b[37m\u001b[0m \u001b[1m20s\u001b[0m 135ms/step - accuracy: 0.8873 - loss: 0.3068 - val_accuracy: 0.7108 - val_loss: 0.7888\n",
            "Epoch 25/100\n",
            "\u001b[1m94/94\u001b[0m \u001b[32m━━━━━━━━━━━━━━━━━━━━\u001b[0m\u001b[37m\u001b[0m \u001b[1m13s\u001b[0m 138ms/step - accuracy: 0.8983 - loss: 0.2857 - val_accuracy: 0.7138 - val_loss: 0.7781\n",
            "Epoch 26/100\n",
            "\u001b[1m94/94\u001b[0m \u001b[32m━━━━━━━━━━━━━━━━━━━━\u001b[0m\u001b[37m\u001b[0m \u001b[1m20s\u001b[0m 136ms/step - accuracy: 0.9029 - loss: 0.2802 - val_accuracy: 0.7200 - val_loss: 0.7802\n",
            "Epoch 27/100\n",
            "\u001b[1m94/94\u001b[0m \u001b[32m━━━━━━━━━━━━━━━━━━━━\u001b[0m\u001b[37m\u001b[0m \u001b[1m13s\u001b[0m 138ms/step - accuracy: 0.9113 - loss: 0.2529 - val_accuracy: 0.7292 - val_loss: 0.7895\n",
            "Epoch 28/100\n",
            "\u001b[1m94/94\u001b[0m \u001b[32m━━━━━━━━━━━━━━━━━━━━\u001b[0m\u001b[37m\u001b[0m \u001b[1m13s\u001b[0m 137ms/step - accuracy: 0.9157 - loss: 0.2314 - val_accuracy: 0.7200 - val_loss: 0.7982\n",
            "Epoch 29/100\n",
            "\u001b[1m94/94\u001b[0m \u001b[32m━━━━━━━━━━━━━━━━━━━━\u001b[0m\u001b[37m\u001b[0m \u001b[1m20s\u001b[0m 135ms/step - accuracy: 0.9241 - loss: 0.2262 - val_accuracy: 0.7015 - val_loss: 0.8442\n",
            "Epoch 30/100\n",
            "\u001b[1m94/94\u001b[0m \u001b[32m━━━━━━━━━━━━━━━━━━━━\u001b[0m\u001b[37m\u001b[0m \u001b[1m13s\u001b[0m 138ms/step - accuracy: 0.9239 - loss: 0.2073 - val_accuracy: 0.7108 - val_loss: 0.8142\n",
            "Epoch 31/100\n",
            "\u001b[1m94/94\u001b[0m \u001b[32m━━━━━━━━━━━━━━━━━━━━\u001b[0m\u001b[37m\u001b[0m \u001b[1m13s\u001b[0m 139ms/step - accuracy: 0.9231 - loss: 0.2043 - val_accuracy: 0.7231 - val_loss: 0.8464\n",
            "Epoch 32/100\n",
            "\u001b[1m94/94\u001b[0m \u001b[32m━━━━━━━━━━━━━━━━━━━━\u001b[0m\u001b[37m\u001b[0m \u001b[1m13s\u001b[0m 137ms/step - accuracy: 0.9341 - loss: 0.1868 - val_accuracy: 0.7138 - val_loss: 0.8250\n",
            "Epoch 33/100\n",
            "\u001b[1m94/94\u001b[0m \u001b[32m━━━━━━━━━━━━━━━━━━━━\u001b[0m\u001b[37m\u001b[0m \u001b[1m13s\u001b[0m 136ms/step - accuracy: 0.9413 - loss: 0.1769 - val_accuracy: 0.7108 - val_loss: 0.8399\n",
            "Epoch 34/100\n",
            "\u001b[1m94/94\u001b[0m \u001b[32m━━━━━━━━━━━━━━━━━━━━\u001b[0m\u001b[37m\u001b[0m \u001b[1m20s\u001b[0m 135ms/step - accuracy: 0.9390 - loss: 0.1740 - val_accuracy: 0.7108 - val_loss: 0.8786\n",
            "Epoch 35/100\n",
            "\u001b[1m94/94\u001b[0m \u001b[32m━━━━━━━━━━━━━━━━━━━━\u001b[0m\u001b[37m\u001b[0m \u001b[1m13s\u001b[0m 138ms/step - accuracy: 0.9519 - loss: 0.1524 - val_accuracy: 0.6954 - val_loss: 0.8673\n"
          ]
        }
      ]
    },
    {
      "cell_type": "code",
      "source": [
        "loss, accuracy = model.evaluate(test)\n",
        "print(f\"Test loss: {loss:.4f}, Test accuracy: {accuracy:.4f}\")"
      ],
      "metadata": {
        "id": "yMcaSeIljW5_",
        "colab": {
          "base_uri": "https://localhost:8080/"
        },
        "outputId": "60d909ef-0986-4494-d24e-78013a637a87"
      },
      "execution_count": 14,
      "outputs": [
        {
          "output_type": "stream",
          "name": "stdout",
          "text": [
            "\u001b[1m11/11\u001b[0m \u001b[32m━━━━━━━━━━━━━━━━━━━━\u001b[0m\u001b[37m\u001b[0m \u001b[1m5s\u001b[0m 468ms/step - accuracy: 0.7204 - loss: 0.8387\n",
            "Test loss: 0.9572, Test accuracy: 0.7173\n"
          ]
        }
      ]
    },
    {
      "cell_type": "code",
      "source": [],
      "metadata": {
        "id": "peGcidiQJB37"
      },
      "execution_count": null,
      "outputs": []
    }
  ]
}